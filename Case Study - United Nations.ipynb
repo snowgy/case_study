{
 "cells": [
  {
   "cell_type": "code",
   "execution_count": null,
   "id": "d4be03cb",
   "metadata": {},
   "outputs": [],
   "source": [
    "import pandas as pd\n",
    "from case_study_utils import CorrCommunity\n",
    "from case_study_ui import show_communities\n",
    "import qgrid\n",
    "pd.set_option(\"display.max_rows\", None)"
   ]
  },
  {
   "cell_type": "markdown",
   "id": "c581c135",
   "metadata": {},
   "source": [
    "# Load Correlations"
   ]
  },
  {
   "cell_type": "code",
   "execution_count": null,
   "id": "effc8c4c",
   "metadata": {},
   "outputs": [],
   "source": [
    "corrs = pd.read_csv('./united_nations_corrs.csv')\n",
    "corr_community = CorrCommunity(corrs, 'un')"
   ]
  },
  {
   "cell_type": "markdown",
   "id": "3eb49837",
   "metadata": {},
   "source": [
    "# Get correlation communities\n",
    "\n",
    "Nexus searches for an optimal set of signals that, when applied as filters, yield a correlation graph with the highest modularity score. The signals that we consider for chicago open data include:\n",
    "\n",
    "    - The absolute value of correlation coefficient\n",
    "    - Overlap: number of samples used to calculate the correlation\n",
    "\n",
    "In united nations data, the best set of thresholds for the above signals are [0.7, 0], which means we include correlations whose |r| >= 0.7 and |samples| >= 0.\n",
    "\n",
    "You can play with different set of thresholds as well!"
   ]
  },
  {
   "cell_type": "code",
   "execution_count": null,
   "id": "d590e86b",
   "metadata": {},
   "outputs": [],
   "source": [
    "signal_thresholds = [0.7, 0]\n",
    "corr_community.get_correlation_communities_un(signal_thresholds)"
   ]
  },
  {
   "cell_type": "markdown",
   "id": "ebf88db9",
   "metadata": {},
   "source": [
    "# Examine Correlation Communities\n",
    "\n",
    "We implement a simple interface for you to explore our correlation communities. Each community is composed of a group of variables. By default, the display is set to only show the tables where these variables are found. To view the specific variables within a community, simply click the \"Show Variables\" button.\n",
    "\n",
    "Clicking the \"Show Correlations\" button will reveal all the correlations within a community. Once displayed, you have the flexibility to apply any filters to the resulting dataframe.\n",
    "\n",
    "FAQ:\n",
    "1. Why do some communities display the exact same set of tables?\n",
    "\n",
    "    The reason is that while the tables might be the same, the variables within these communities differ. We construct the correlation graph based on variables, and then present it in a table-view for clarity."
   ]
  },
  {
   "cell_type": "code",
   "execution_count": null,
   "id": "4ae9da7d",
   "metadata": {},
   "outputs": [],
   "source": [
    "# show_corr_in_same_tbl param means whether you want to show correlations in the same tbl\n",
    "show_communities(corr_community, show_corr_in_same_tbl=False)"
   ]
  },
  {
   "cell_type": "markdown",
   "id": "6d22e4cc",
   "metadata": {},
   "source": [
    "# Report interesting correlation\n",
    "\n",
    "If you find any interesting correlations (you are free to propose any creteria for \"interesting\"), simply record and report its index."
   ]
  },
  {
   "cell_type": "code",
   "execution_count": null,
   "id": "b03095ce",
   "metadata": {},
   "outputs": [],
   "source": []
  },
  {
   "cell_type": "code",
   "execution_count": null,
   "id": "a0cae650",
   "metadata": {},
   "outputs": [],
   "source": []
  }
 ],
 "metadata": {
  "kernelspec": {
   "display_name": "venv",
   "language": "python",
   "name": "venv"
  },
  "language_info": {
   "codemirror_mode": {
    "name": "ipython",
    "version": 3
   },
   "file_extension": ".py",
   "mimetype": "text/x-python",
   "name": "python",
   "nbconvert_exporter": "python",
   "pygments_lexer": "ipython3",
   "version": "3.9.6"
  }
 },
 "nbformat": 4,
 "nbformat_minor": 5
}
