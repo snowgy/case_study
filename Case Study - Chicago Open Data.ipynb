{
 "cells": [
  {
   "cell_type": "code",
   "execution_count": null,
   "id": "1c712c86",
   "metadata": {},
   "outputs": [],
   "source": [
    "import pandas as pd\n",
    "from case_study_utils import CorrCommunity\n",
    "from case_study_ui import show_communities\n",
    "import qgrid\n",
    "pd.set_option(\"display.max_rows\", None)"
   ]
  },
  {
   "cell_type": "markdown",
   "id": "005b6a0d",
   "metadata": {},
   "source": [
    "# Load Correlation"
   ]
  },
  {
   "cell_type": "code",
   "execution_count": null,
   "id": "ab74c797",
   "metadata": {},
   "outputs": [],
   "source": [
    "corrs = pd.read_csv('./chicago_month_census_tract.csv')\n",
    "corr_community = CorrCommunity(corrs, 'chicago')"
   ]
  },
  {
   "cell_type": "markdown",
   "id": "75ebbc60",
   "metadata": {},
   "source": [
    "# Get correlation communities\n",
    "\n",
    "Nexus searches for an optimal set of signals that, when applied as filters, yield a correlation graph with the highest modularity score. The signals that we consider for chicago open data include:\n",
    "\n",
    "    - Missing value ratio in the aggregated column\n",
    "    - Missing value ratio in the original column\n",
    "    - Zero value ratio in the aggregated column\n",
    "    - Zero value ratio in the original column\n",
    "    - The absolute value of correlation coefficient\n",
    "    - Overlap: number of samples used to calculate the correlation\n",
    "\n",
    "In chicago open data, the best set of thresholds for the above signals are [1.0, 1.0, 1.0, 0.8, 0.6, 70], which means we include correlations whose missing_ratio <= 1.0, missing_ratio_original<=1.0, zero_ratio <=1.0, zero_ratio_original <= 0.8, |r| >= 0.6, |samples| >= 70.\n",
    "\n",
    "You can play with different set of thresholds as well!"
   ]
  },
  {
   "cell_type": "code",
   "execution_count": null,
   "id": "3e7932a7",
   "metadata": {},
   "outputs": [],
   "source": [
    "signal_thresholds = [1.0, 1.0, 1.0, 0.8, 0.6, 70]\n",
    "corr_community.get_correlation_communities_chicago(signal_thresholds)"
   ]
  },
  {
   "cell_type": "markdown",
   "id": "5e9e1242",
   "metadata": {},
   "source": [
    "# Examine Correlation Communities\n",
    "\n",
    "We implement a simple interface for you to explore our correlation communities. Each community is composed of a group of variables. By default, the display is set to only show the tables where these variables are found. To view the specific variables within a community, simply click the \"Show Variables\" button.\n",
    "\n",
    "Clicking the \"Show Correlations\" button will reveal all the correlations within a community. Once displayed, you have the flexibility to apply any filters to the resulting dataframe.\n",
    "\n",
    "FAQ:\n",
    "1. Why do some communities display the exact same set of tables?\n",
    "\n",
    "    The reason is that while the tables might be the same, the variables within these communities differ. We construct the correlation graph based on variables, and then present it in a table-view for clarity.\n"
   ]
  },
  {
   "cell_type": "code",
   "execution_count": null,
   "id": "54955f28",
   "metadata": {},
   "outputs": [],
   "source": [
    "show_communities(corr_community, show_corr_in_same_tbl=False)"
   ]
  },
  {
   "cell_type": "markdown",
   "id": "c6c308f9",
   "metadata": {},
   "source": [
    "# Report interesting correlation\n",
    "\n",
    "If you find any interesting correlations (you are free to propose any creteria for \"interesting\"), simply record and report its index."
   ]
  },
  {
   "cell_type": "code",
   "execution_count": null,
   "id": "7773f131",
   "metadata": {},
   "outputs": [],
   "source": []
  }
 ],
 "metadata": {
  "kernelspec": {
   "display_name": "venv",
   "language": "python",
   "name": "python3"
  },
  "language_info": {
   "codemirror_mode": {
    "name": "ipython",
    "version": 3
   },
   "file_extension": ".py",
   "mimetype": "text/x-python",
   "name": "python",
   "nbconvert_exporter": "python",
   "pygments_lexer": "ipython3",
   "version": "3.11.4"
  }
 },
 "nbformat": 4,
 "nbformat_minor": 5
}
